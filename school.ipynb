{
 "cells": [
  {
   "cell_type": "code",
   "execution_count": 2,
   "metadata": {},
   "outputs": [
    {
     "name": "stdout",
     "output_type": "stream",
     "text": [
      "0\n",
      "1\n",
      "2\n",
      "3\n",
      "4\n"
     ]
    }
   ],
   "source": [
    "for i in range(5):\n",
    "    print(i)"
   ]
  },
  {
   "cell_type": "code",
   "execution_count": 5,
   "metadata": {},
   "outputs": [
    {
     "name": "stdout",
     "output_type": "stream",
     "text": [
      "0\n",
      "0\n",
      "1\n",
      "1\n",
      "2\n",
      "2\n",
      "3\n",
      "3\n",
      "4\n",
      "4\n"
     ]
    }
   ],
   "source": [
    "count = 0\n",
    "while count < 5:\n",
    "    print(count)\n",
    "    print(count)\n",
    "    count += 1"
   ]
  },
  {
   "cell_type": "code",
   "execution_count": 6,
   "metadata": {},
   "outputs": [
    {
     "name": "stdout",
     "output_type": "stream",
     "text": [
      "apple\n",
      "banana\n",
      "cherry\n"
     ]
    }
   ],
   "source": [
    "fruits = [\"apple\", \"banana\", \"cherry\"]\n",
    "for fruit in fruits:\n",
    "    print(fruit)"
   ]
  },
  {
   "cell_type": "code",
   "execution_count": 21,
   "metadata": {},
   "outputs": [
    {
     "name": "stdout",
     "output_type": "stream",
     "text": [
      "Hello, Alice!\n"
     ]
    }
   ],
   "source": [
    "def greeta(name):\n",
    "    return f\"Hello, {name}!\"\n",
    "print(greeta(\"Alice\"))"
   ]
  },
  {
   "cell_type": "code",
   "execution_count": 18,
   "metadata": {},
   "outputs": [
    {
     "name": "stdout",
     "output_type": "stream",
     "text": [
      "15\n"
     ]
    }
   ],
   "source": [
    "num = int(15.1)  # 触发 ValueError: invalid literal for int() with base 10: 'abc'\n",
    "print(num)"
   ]
  },
  {
   "cell_type": "code",
   "execution_count": 26,
   "metadata": {},
   "outputs": [],
   "source": [
    "import json\n",
    "\n",
    "data = {\n",
    "    \"name\": \"Alice\",\n",
    "    \"age\": 30,\n",
    "    \"is_student\": False,\n",
    "    \"courses\": [\"Math\", \"Physics\"]\n",
    "}\n",
    "\n",
    "# 将字典写入 JSON 文件\n",
    "with open('data.json', 'w') as file:\n",
    "    json.dump(data, file, indent=4)  # indent 参数美化格式"
   ]
  },
  {
   "cell_type": "code",
   "execution_count": null,
   "metadata": {},
   "outputs": [
    {
     "name": "stdout",
     "output_type": "stream",
     "text": [
      "\n",
      "学生成绩管理系统\n",
      "1. 添加学生\n",
      "2. 删除学生\n",
      "3. 修改学生成绩\n",
      "4. 查看所有学生\n",
      "5. 退出\n",
      "没有学生信息。\n",
      "\n",
      "学生成绩管理系统\n",
      "1. 添加学生\n",
      "2. 删除学生\n",
      "3. 修改学生成绩\n",
      "4. 查看所有学生\n",
      "5. 退出\n",
      "无效的选择，请重新输入。\n",
      "\n",
      "学生成绩管理系统\n",
      "1. 添加学生\n",
      "2. 删除学生\n",
      "3. 修改学生成绩\n",
      "4. 查看所有学生\n",
      "5. 退出\n",
      "无效的选择，请重新输入。\n",
      "\n",
      "学生成绩管理系统\n",
      "1. 添加学生\n",
      "2. 删除学生\n",
      "3. 修改学生成绩\n",
      "4. 查看所有学生\n",
      "5. 退出\n",
      "无效的选择，请重新输入。\n",
      "\n",
      "学生成绩管理系统\n",
      "1. 添加学生\n",
      "2. 删除学生\n",
      "3. 修改学生成绩\n",
      "4. 查看所有学生\n",
      "5. 退出\n"
     ]
    }
   ],
   "source": [
    "# 学生成绩管理系统\n",
    "\n",
    "# 初始化一个空的字典，用于存储学生信息\n",
    "students = {}\n",
    "\n",
    "def add_student():\n",
    "    \"\"\"\n",
    "    添加学生信息函数。\n",
    "    从用户输入获取学生ID、姓名和成绩，并将其添加到students字典中。\n",
    "    \"\"\"\n",
    "    student_id = input(\"请输入学生ID: \")  # 提示用户输入学生ID\n",
    "    name = input(\"请输入学生姓名: \")       # 提示用户输入学生姓名\n",
    "    score = float(input(\"请输入学生成绩: \"))  # 提示用户输入学生成绩，并转换为浮点数\n",
    "    # 将学生信息存储在字典中，键为学生ID，值为包含姓名和成绩的子字典\n",
    "    students[student_id] = {'name': name, 'score': score}\n",
    "    print(f\"学生 {name} 已添加。\")  # 确认学生已添加\n",
    "\n",
    "def delete_student():\n",
    "    \"\"\"\n",
    "    删除学生信息函数。\n",
    "    根据用户输入的学生ID，从students字典中删除对应的学生信息。\n",
    "    \"\"\"\n",
    "    student_id = input(\"请输入要删除的学生ID: \")  # 提示用户输入要删除的学生ID\n",
    "    # 检查学生ID是否存在于students字典中\n",
    "    if student_id in students:\n",
    "        del students[student_id]  # 删除对应的学生信息\n",
    "        print(\"学生已删除。\")       # 确认学生已删除\n",
    "    else:\n",
    "        print(\"未找到该学生。\")     # 提示未找到该学生\n",
    "\n",
    "def update_student():\n",
    "    \"\"\"\n",
    "    更新学生成绩函数。\n",
    "    根据用户输入的学生ID，更新对应学生的成绩。\n",
    "    \"\"\"\n",
    "    student_id = input(\"请输入要修改的学生ID: \")  # 提示用户输入要修改的学生ID\n",
    "    # 检查学生ID是否存在于students字典中\n",
    "    if student_id in students:\n",
    "        score = float(input(\"请输入新的成绩: \"))  # 提示用户输入新的成绩，并转换为浮点数\n",
    "        students[student_id]['score'] = score     # 更新学生的成绩\n",
    "        print(\"学生成绩已更新。\")                  # 确认学生成绩已更新\n",
    "    else:\n",
    "        print(\"未找到该学生。\")                    # 提示未找到该学生\n",
    "\n",
    "def view_students():\n",
    "    \"\"\"\n",
    "    查看所有学生信息函数。\n",
    "    遍历students字典，打印每个学生的ID、姓名和成绩。\n",
    "    \"\"\"\n",
    "    # 检查students字典是否为空\n",
    "    if not students:\n",
    "        print(\"没有学生信息。\")  # 提示没有学生信息\n",
    "    else:\n",
    "        # 遍历students字典，打印每个学生的信息\n",
    "        for student_id, info in students.items():\n",
    "            print(f\"ID: {student_id}, 姓名: {info['name']}, 成绩: {info['score']}\")\n",
    "\n",
    "def main():\n",
    "    \"\"\"\n",
    "    主函数，提供一个菜单供用户选择操作。\n",
    "    根据用户的选择，调用相应的函数执行操作。\n",
    "    \"\"\"\n",
    "    while True:\n",
    "        # 打印菜单选项\n",
    "        print(\"\\n学生成绩管理系统\")\n",
    "        print(\"1. 添加学生\")\n",
    "        print(\"2. 删除学生\")\n",
    "        print(\"3. 修改学生成绩\")\n",
    "        print(\"4. 查看所有学生\")\n",
    "        print(\"5. 退出\")\n",
    "        \n",
    "        choice = input(\"请选择操作(1/2/3/4/5): \")  # 提示用户选择操作\n",
    "        \n",
    "        # 根据用户的选择，调用相应的函数\n",
    "        if choice == '1':\n",
    "            add_student()\n",
    "        elif choice == '2':\n",
    "            delete_student()\n",
    "        elif choice == '3':\n",
    "            update_student()\n",
    "        elif choice == '4':\n",
    "            view_students()\n",
    "        elif choice == '5':\n",
    "            print(\"退出系统。\")\n",
    "            break  # 退出循环，结束程序\n",
    "        else:\n",
    "            print(\"无效的选择，请重新输入。\")  # 提示用户输入无效\n",
    "\n",
    "# 调用主函数，启动程序\n",
    "if __name__ == \"__main__\":\n",
    "    main()"
   ]
  }
 ],
 "metadata": {
  "kernelspec": {
   "display_name": "myenv",
   "language": "python",
   "name": "python3"
  },
  "language_info": {
   "codemirror_mode": {
    "name": "ipython",
    "version": 3
   },
   "file_extension": ".py",
   "mimetype": "text/x-python",
   "name": "python",
   "nbconvert_exporter": "python",
   "pygments_lexer": "ipython3",
   "version": "3.10.16"
  }
 },
 "nbformat": 4,
 "nbformat_minor": 2
}
